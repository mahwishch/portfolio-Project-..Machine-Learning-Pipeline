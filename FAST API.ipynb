{
 "cells": [
  {
   "cell_type": "code",
   "execution_count": 1,
   "id": "e4dc2db8",
   "metadata": {},
   "outputs": [
    {
     "name": "stdout",
     "output_type": "stream",
     "text": [
      "Defaulting to user installation because normal site-packages is not writeable\n",
      "Collecting fastapi\n",
      "  Obtaining dependency information for fastapi from https://files.pythonhosted.org/packages/51/7d/68b632b717938a50d59c800ecd1f889dc3c37e337a1eb2c8be80f164fbb9/fastapi-0.114.1-py3-none-any.whl.metadata\n",
      "  Downloading fastapi-0.114.1-py3-none-any.whl.metadata (27 kB)\n",
      "Collecting uvicorn\n",
      "  Obtaining dependency information for uvicorn from https://files.pythonhosted.org/packages/f5/8e/cdc7d6263db313030e4c257dd5ba3909ebc4e4fb53ad62d5f09b1a2f5458/uvicorn-0.30.6-py3-none-any.whl.metadata\n",
      "  Downloading uvicorn-0.30.6-py3-none-any.whl.metadata (6.6 kB)\n",
      "Collecting starlette<0.39.0,>=0.37.2 (from fastapi)\n",
      "  Obtaining dependency information for starlette<0.39.0,>=0.37.2 from https://files.pythonhosted.org/packages/90/1a/8853ba4cea1ec99535ac9be5795a50ca92cddd04d57bbaa56e866cb7548c/starlette-0.38.5-py3-none-any.whl.metadata\n",
      "  Downloading starlette-0.38.5-py3-none-any.whl.metadata (6.0 kB)\n",
      "Collecting pydantic!=1.8,!=1.8.1,!=2.0.0,!=2.0.1,!=2.1.0,<3.0.0,>=1.7.4 (from fastapi)\n",
      "  Obtaining dependency information for pydantic!=1.8,!=1.8.1,!=2.0.0,!=2.0.1,!=2.1.0,<3.0.0,>=1.7.4 from https://files.pythonhosted.org/packages/e4/28/fff23284071bc1ba419635c7e86561c8b9b8cf62a5bcb459b92d7625fd38/pydantic-2.9.1-py3-none-any.whl.metadata\n",
      "  Downloading pydantic-2.9.1-py3-none-any.whl.metadata (146 kB)\n",
      "     ---------------------------------------- 0.0/147.0 kB ? eta -:--:--\n",
      "     ---------- -------------------------- 41.0/147.0 kB 960.0 kB/s eta 0:00:01\n",
      "     ------------------------ -------------- 92.2/147.0 kB 1.1 MB/s eta 0:00:01\n",
      "     -------------------------------------  143.4/147.0 kB 1.1 MB/s eta 0:00:01\n",
      "     -------------------------------------  143.4/147.0 kB 1.1 MB/s eta 0:00:01\n",
      "     ------------------------------------ 147.0/147.0 kB 727.4 kB/s eta 0:00:00\n",
      "Collecting typing-extensions>=4.8.0 (from fastapi)\n",
      "  Obtaining dependency information for typing-extensions>=4.8.0 from https://files.pythonhosted.org/packages/26/9f/ad63fc0248c5379346306f8668cda6e2e2e9c95e01216d2b8ffd9ff037d0/typing_extensions-4.12.2-py3-none-any.whl.metadata\n",
      "  Downloading typing_extensions-4.12.2-py3-none-any.whl.metadata (3.0 kB)\n",
      "Requirement already satisfied: click>=7.0 in c:\\programdata\\anaconda3\\lib\\site-packages (from uvicorn) (8.0.4)\n",
      "Collecting h11>=0.8 (from uvicorn)\n",
      "  Obtaining dependency information for h11>=0.8 from https://files.pythonhosted.org/packages/95/04/ff642e65ad6b90db43e668d70ffb6736436c7ce41fcc549f4e9472234127/h11-0.14.0-py3-none-any.whl.metadata\n",
      "  Downloading h11-0.14.0-py3-none-any.whl.metadata (8.2 kB)\n",
      "Requirement already satisfied: colorama in c:\\programdata\\anaconda3\\lib\\site-packages (from click>=7.0->uvicorn) (0.4.6)\n",
      "Collecting annotated-types>=0.6.0 (from pydantic!=1.8,!=1.8.1,!=2.0.0,!=2.0.1,!=2.1.0,<3.0.0,>=1.7.4->fastapi)\n",
      "  Obtaining dependency information for annotated-types>=0.6.0 from https://files.pythonhosted.org/packages/78/b6/6307fbef88d9b5ee7421e68d78a9f162e0da4900bc5f5793f6d3d0e34fb8/annotated_types-0.7.0-py3-none-any.whl.metadata\n",
      "  Downloading annotated_types-0.7.0-py3-none-any.whl.metadata (15 kB)\n",
      "Collecting pydantic-core==2.23.3 (from pydantic!=1.8,!=1.8.1,!=2.0.0,!=2.0.1,!=2.1.0,<3.0.0,>=1.7.4->fastapi)\n",
      "  Obtaining dependency information for pydantic-core==2.23.3 from https://files.pythonhosted.org/packages/4f/ff/6dc33f3b71e34ef633e35d6476d245bf303fc3eaf18a00f39bb54f78faf3/pydantic_core-2.23.3-cp311-none-win_amd64.whl.metadata\n",
      "  Downloading pydantic_core-2.23.3-cp311-none-win_amd64.whl.metadata (6.7 kB)\n",
      "Requirement already satisfied: anyio<5,>=3.4.0 in c:\\programdata\\anaconda3\\lib\\site-packages (from starlette<0.39.0,>=0.37.2->fastapi) (3.5.0)\n",
      "Requirement already satisfied: idna>=2.8 in c:\\programdata\\anaconda3\\lib\\site-packages (from anyio<5,>=3.4.0->starlette<0.39.0,>=0.37.2->fastapi) (3.4)\n",
      "Requirement already satisfied: sniffio>=1.1 in c:\\programdata\\anaconda3\\lib\\site-packages (from anyio<5,>=3.4.0->starlette<0.39.0,>=0.37.2->fastapi) (1.2.0)\n",
      "Downloading fastapi-0.114.1-py3-none-any.whl (94 kB)\n",
      "   ---------------------------------------- 0.0/94.0 kB ? eta -:--:--\n",
      "   ----------------- ---------------------- 41.0/94.0 kB 1.9 MB/s eta 0:00:01\n",
      "   ---------------------------------------  92.2/94.0 kB 1.1 MB/s eta 0:00:01\n",
      "   ---------------------------------------- 94.0/94.0 kB 768.9 kB/s eta 0:00:00\n",
      "Downloading uvicorn-0.30.6-py3-none-any.whl (62 kB)\n",
      "   ---------------------------------------- 0.0/62.8 kB ? eta -:--:--\n",
      "   ---------------------------------------  61.4/62.8 kB 1.1 MB/s eta 0:00:01\n",
      "   ---------------------------------------- 62.8/62.8 kB 674.3 kB/s eta 0:00:00\n",
      "Downloading h11-0.14.0-py3-none-any.whl (58 kB)\n",
      "   ---------------------------------------- 0.0/58.3 kB ? eta -:--:--\n",
      "   ---------------------------- ----------- 41.0/58.3 kB 2.0 MB/s eta 0:00:01\n",
      "   ----------------------------------- ---- 51.2/58.3 kB 660.6 kB/s eta 0:00:01\n",
      "   ----------------------------------- ---- 51.2/58.3 kB 660.6 kB/s eta 0:00:01\n",
      "   ----------------------------------- ---- 51.2/58.3 kB 660.6 kB/s eta 0:00:01\n",
      "   ----------------------------------- ---- 51.2/58.3 kB 660.6 kB/s eta 0:00:01\n",
      "   ---------------------------------------- 58.3/58.3 kB 220.3 kB/s eta 0:00:00\n",
      "Downloading pydantic-2.9.1-py3-none-any.whl (434 kB)\n",
      "   ---------------------------------------- 0.0/434.4 kB ? eta -:--:--\n",
      "   -- ------------------------------------- 30.7/434.4 kB 1.4 MB/s eta 0:00:01\n",
      "   ------- -------------------------------- 81.9/434.4 kB 1.2 MB/s eta 0:00:01\n",
      "   ---------- --------------------------- 122.9/434.4 kB 901.1 kB/s eta 0:00:01\n",
      "   -------------- ----------------------- 163.8/434.4 kB 893.0 kB/s eta 0:00:01\n",
      "   ------------------- ------------------ 225.3/434.4 kB 860.2 kB/s eta 0:00:01\n",
      "   ------------------------- ------------ 286.7/434.4 kB 930.9 kB/s eta 0:00:01\n",
      "   ----------------------------- -------- 337.9/434.4 kB 999.0 kB/s eta 0:00:01\n",
      "   ------------------------------------- -- 409.6/434.4 kB 1.0 MB/s eta 0:00:01\n",
      "   ---------------------------------------  430.1/434.4 kB 1.0 MB/s eta 0:00:01\n",
      "   -------------------------------------- 434.4/434.4 kB 904.3 kB/s eta 0:00:00\n",
      "Downloading pydantic_core-2.23.3-cp311-none-win_amd64.whl (1.9 MB)\n",
      "   ---------------------------------------- 0.0/1.9 MB ? eta -:--:--\n",
      "    --------------------------------------- 0.0/1.9 MB 2.0 MB/s eta 0:00:01\n",
      "   - -------------------------------------- 0.1/1.9 MB 1.3 MB/s eta 0:00:02\n",
      "   --- ------------------------------------ 0.2/1.9 MB 1.3 MB/s eta 0:00:02\n",
      "   ---- ----------------------------------- 0.2/1.9 MB 1.4 MB/s eta 0:00:02\n",
      "   ----- ---------------------------------- 0.3/1.9 MB 1.3 MB/s eta 0:00:02\n",
      "   ------ --------------------------------- 0.3/1.9 MB 1.2 MB/s eta 0:00:02\n",
      "   ------- -------------------------------- 0.4/1.9 MB 1.3 MB/s eta 0:00:02\n",
      "   ------- -------------------------------- 0.4/1.9 MB 1.3 MB/s eta 0:00:02\n",
      "   -------- ------------------------------- 0.4/1.9 MB 1.1 MB/s eta 0:00:02\n",
      "   --------- ------------------------------ 0.5/1.9 MB 1.1 MB/s eta 0:00:02\n",
      "   ----------- ---------------------------- 0.5/1.9 MB 1.1 MB/s eta 0:00:02\n",
      "   ------------ --------------------------- 0.6/1.9 MB 1.1 MB/s eta 0:00:02\n",
      "   ------------- -------------------------- 0.6/1.9 MB 1.1 MB/s eta 0:00:02\n",
      "   -------------- ------------------------- 0.7/1.9 MB 1.1 MB/s eta 0:00:02\n",
      "   ---------------- ----------------------- 0.8/1.9 MB 1.1 MB/s eta 0:00:01\n",
      "   ----------------- ---------------------- 0.8/1.9 MB 1.2 MB/s eta 0:00:01\n",
      "   ------------------- -------------------- 0.9/1.9 MB 1.2 MB/s eta 0:00:01\n",
      "   -------------------- ------------------- 1.0/1.9 MB 1.2 MB/s eta 0:00:01\n",
      "   --------------------- ------------------ 1.0/1.9 MB 1.2 MB/s eta 0:00:01\n",
      "   ----------------------- ---------------- 1.1/1.9 MB 1.2 MB/s eta 0:00:01\n",
      "   ------------------------ --------------- 1.2/1.9 MB 1.2 MB/s eta 0:00:01\n",
      "   ------------------------- -------------- 1.2/1.9 MB 1.2 MB/s eta 0:00:01\n",
      "   ------------------------- -------------- 1.2/1.9 MB 1.2 MB/s eta 0:00:01\n",
      "   -------------------------- ------------- 1.3/1.9 MB 1.2 MB/s eta 0:00:01\n",
      "   --------------------------- ------------ 1.3/1.9 MB 1.1 MB/s eta 0:00:01\n",
      "   ---------------------------- ----------- 1.4/1.9 MB 1.1 MB/s eta 0:00:01\n",
      "   ----------------------------- ---------- 1.4/1.9 MB 1.1 MB/s eta 0:00:01\n",
      "   ------------------------------ --------- 1.5/1.9 MB 1.1 MB/s eta 0:00:01\n",
      "   ------------------------------- -------- 1.5/1.9 MB 1.1 MB/s eta 0:00:01\n",
      "   -------------------------------- ------- 1.5/1.9 MB 1.1 MB/s eta 0:00:01\n",
      "   -------------------------------- ------- 1.5/1.9 MB 1.1 MB/s eta 0:00:01\n",
      "   --------------------------------- ------ 1.6/1.9 MB 1.1 MB/s eta 0:00:01\n",
      "   ---------------------------------- ----- 1.7/1.9 MB 1.1 MB/s eta 0:00:01\n",
      "   ----------------------------------- ---- 1.7/1.9 MB 1.1 MB/s eta 0:00:01\n",
      "   ------------------------------------ --- 1.8/1.9 MB 1.1 MB/s eta 0:00:01\n",
      "   ------------------------------------- -- 1.8/1.9 MB 1.1 MB/s eta 0:00:01\n",
      "   -------------------------------------- - 1.8/1.9 MB 1.1 MB/s eta 0:00:01\n",
      "   -------------------------------------- - 1.8/1.9 MB 1.1 MB/s eta 0:00:01\n",
      "   -------------------------------------- - 1.8/1.9 MB 1.1 MB/s eta 0:00:01\n",
      "   ---------------------------------------  1.9/1.9 MB 1.0 MB/s eta 0:00:01\n",
      "   ---------------------------------------  1.9/1.9 MB 1.0 MB/s eta 0:00:01\n",
      "   ---------------------------------------- 1.9/1.9 MB 992.7 kB/s eta 0:00:00\n",
      "Downloading starlette-0.38.5-py3-none-any.whl (71 kB)\n",
      "   ---------------------------------------- 0.0/71.4 kB ? eta -:--:--\n",
      "   ----------------- ---------------------- 30.7/71.4 kB 1.3 MB/s eta 0:00:01\n",
      "   ---------------------------------- ----- 61.4/71.4 kB 825.8 kB/s eta 0:00:01\n",
      "   ---------------------------------- ----- 61.4/71.4 kB 825.8 kB/s eta 0:00:01\n",
      "   ---------------------------------------- 71.4/71.4 kB 434.1 kB/s eta 0:00:00\n",
      "Downloading typing_extensions-4.12.2-py3-none-any.whl (37 kB)\n",
      "Downloading annotated_types-0.7.0-py3-none-any.whl (13 kB)\n",
      "Installing collected packages: typing-extensions, h11, annotated-types, uvicorn, starlette, pydantic-core, pydantic, fastapi\n",
      "Successfully installed annotated-types-0.7.0 fastapi-0.114.1 h11-0.14.0 pydantic-2.9.1 pydantic-core-2.23.3 starlette-0.38.5 typing-extensions-4.12.2 uvicorn-0.30.6\n",
      "Note: you may need to restart the kernel to use updated packages.\n"
     ]
    },
    {
     "name": "stderr",
     "output_type": "stream",
     "text": [
      "  WARNING: The script uvicorn.exe is installed in 'C:\\Users\\mahwi\\AppData\\Roaming\\Python\\Python311\\Scripts' which is not on PATH.\n",
      "  Consider adding this directory to PATH or, if you prefer to suppress this warning, use --no-warn-script-location.\n",
      "  WARNING: The script fastapi.exe is installed in 'C:\\Users\\mahwi\\AppData\\Roaming\\Python\\Python311\\Scripts' which is not on PATH.\n",
      "  Consider adding this directory to PATH or, if you prefer to suppress this warning, use --no-warn-script-location.\n"
     ]
    }
   ],
   "source": [
    "pip install fastapi uvicorn\n"
   ]
  },
  {
   "cell_type": "code",
   "execution_count": 3,
   "id": "29d9d4c2",
   "metadata": {},
   "outputs": [
    {
     "name": "stdout",
     "output_type": "stream",
     "text": [
      "Defaulting to user installation because normal site-packages is not writeable\n",
      "Requirement already satisfied: nest_asyncio in c:\\programdata\\anaconda3\\lib\\site-packages (1.5.6)\n"
     ]
    }
   ],
   "source": [
    "!pip install nest_asyncio\n"
   ]
  },
  {
   "cell_type": "code",
   "execution_count": 4,
   "id": "d45cec57",
   "metadata": {},
   "outputs": [],
   "source": [
    "import nest_asyncio\n",
    "nest_asyncio.apply()\n"
   ]
  },
  {
   "cell_type": "code",
   "execution_count": null,
   "id": "1e77f149",
   "metadata": {},
   "outputs": [
    {
     "name": "stderr",
     "output_type": "stream",
     "text": [
      "INFO:     Started server process [6424]\n",
      "INFO:     Waiting for application startup.\n",
      "INFO:     Application startup complete.\n",
      "INFO:     Uvicorn running on http://0.0.0.0:8000 (Press CTRL+C to quit)\n"
     ]
    }
   ],
   "source": [
    "import uvicorn\n",
    "from fastapi import FastAPI, HTTPException\n",
    "from pydantic import BaseModel\n",
    "import joblib\n",
    "\n",
    "app = FastAPI()\n",
    "\n",
    "class Data(BaseModel):\n",
    "    age: int\n",
    "    bmi: float\n",
    "    children: int\n",
    "    sex: str\n",
    "    smoker: str\n",
    "    region: str\n",
    "\n",
    "model = joblib.load('my_model.pkl')\n",
    "\n",
    "@app.post(\"/predict/\")\n",
    "async def predict(data: Data):\n",
    "    input_data = {\n",
    "        \"age\": [data.age],\n",
    "        \"bmi\": [data.bmi],\n",
    "        \"children\": [data.children],\n",
    "        \"sex\": [data.sex],\n",
    "        \"smoker\": [data.smoker],\n",
    "        \"region\": [data.region]\n",
    "    }\n",
    "    prediction = model.predict(input_data)\n",
    "    return {\"prediction\": prediction[0]}\n",
    "\n",
    "uvicorn.run(app, host=\"0.0.0.0\", port=8000)\n"
   ]
  },
  {
   "cell_type": "code",
   "execution_count": null,
   "id": "11f20027",
   "metadata": {},
   "outputs": [],
   "source": []
  }
 ],
 "metadata": {
  "kernelspec": {
   "display_name": "Python 3 (ipykernel)",
   "language": "python",
   "name": "python3"
  },
  "language_info": {
   "codemirror_mode": {
    "name": "ipython",
    "version": 3
   },
   "file_extension": ".py",
   "mimetype": "text/x-python",
   "name": "python",
   "nbconvert_exporter": "python",
   "pygments_lexer": "ipython3",
   "version": "3.11.4"
  }
 },
 "nbformat": 4,
 "nbformat_minor": 5
}
